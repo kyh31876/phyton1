{
 "metadata": {
  "language_info": {
   "codemirror_mode": {
    "name": "ipython",
    "version": 3
   },
   "file_extension": ".py",
   "mimetype": "text/x-python",
   "name": "python",
   "nbconvert_exporter": "python",
   "pygments_lexer": "ipython3",
   "version": "3.8.5"
  },
  "orig_nbformat": 2,
  "kernelspec": {
   "name": "python385jvsc74a57bd077ce2973aab2b48623e88611d791d1b5e95b350fd497be4f1befd89e3cecb4c1",
   "display_name": "Python 3.8.5 64-bit ('base': conda)"
  }
 },
 "nbformat": 4,
 "nbformat_minor": 2,
 "cells": [
  {
   "cell_type": "code",
   "execution_count": null,
   "metadata": {},
   "outputs": [],
   "source": [
    "import pandas as pd "
   ]
  },
  {
   "cell_type": "code",
   "execution_count": null,
   "metadata": {},
   "outputs": [],
   "source": [
    "data=pd.read_csv(\"/Users/yuhyun/Downloads/trainingDATA.csv\", index_col=\"회차\",encoding=\"cp949\")"
   ]
  },
  {
   "cell_type": "code",
   "execution_count": null,
   "metadata": {},
   "outputs": [],
   "source": [
    "data.index #데이터의 인덱스 출력 \n"
   ]
  },
  {
   "cell_type": "code",
   "execution_count": null,
   "metadata": {},
   "outputs": [],
   "source": [
    "data.columns"
   ]
  },
  {
   "cell_type": "code",
   "execution_count": null,
   "metadata": {},
   "outputs": [],
   "source": [
    "data.shape"
   ]
  },
  {
   "source": [
    "# 기본연산"
   ],
   "cell_type": "markdown",
   "metadata": {}
  },
  {
   "cell_type": "code",
   "execution_count": null,
   "metadata": {},
   "outputs": [],
   "source": [
    "data[\"몸무게\"]"
   ]
  },
  {
   "cell_type": "code",
   "execution_count": null,
   "metadata": {},
   "outputs": [],
   "source": [
    "data[\"몸무게\"].mean #평균값 "
   ]
  },
  {
   "cell_type": "code",
   "execution_count": null,
   "metadata": {},
   "outputs": [],
   "source": [
    "data[\"몸무게\"].describe() #기본통계치 출력 "
   ]
  },
  {
   "cell_type": "code",
   "execution_count": null,
   "metadata": {},
   "outputs": [],
   "source": [
    "data[\"지점\"]"
   ]
  },
  {
   "cell_type": "code",
   "execution_count": null,
   "metadata": {},
   "outputs": [],
   "source": [
    "data[\"지점\"]=data[\"지점\"].replace(\"강남구\",\"강남\")  #강남구를 강남으로 바꾸기 데이터의 지점을 바꾼값으로 대체후 저장하기 "
   ]
  },
  {
   "cell_type": "code",
   "execution_count": null,
   "metadata": {},
   "outputs": [],
   "source": [
    "data[\"몸무게\"]=data[\"몸무게\"].fillna(123) #nan채우고 저장하기 "
   ]
  },
  {
   "cell_type": "code",
   "execution_count": null,
   "metadata": {},
   "outputs": [],
   "source": [
    "data[\"뭄무게(prev)\"]=data[\"몸무게\"].shift(+1) #행을 기준으로 뒤의값을 출력 \n",
    "data[\"뭄무게(post)\"]=data[\"몸무게\"].shift(-1) #하루후의 값을 확인"
   ]
  },
  {
   "cell_type": "code",
   "execution_count": null,
   "metadata": {},
   "outputs": [],
   "source": [
    "data[\"측정일\"]     #측정일 확인 \n",
    "data[\"측정일\"]=pd.to_datetime(data[\"측정일\"]) #int 데이터라 명시"
   ]
  },
  {
   "cell_type": "code",
   "execution_count": null,
   "metadata": {},
   "outputs": [],
   "source": [
    "data[\"측정일\"].dt.year"
   ]
  },
  {
   "cell_type": "code",
   "execution_count": null,
   "metadata": {},
   "outputs": [],
   "source": [
    "data[\"측정일\"].dt.month"
   ]
  },
  {
   "source": [
    "data[\"측정일\"].dt.day"
   ],
   "cell_type": "code",
   "metadata": {},
   "execution_count": null,
   "outputs": []
  },
  {
   "source": [
    "# 행열검색"
   ],
   "cell_type": "markdown",
   "metadata": {}
  },
  {
   "cell_type": "code",
   "execution_count": 91,
   "metadata": {},
   "outputs": [
    {
     "output_type": "execute_result",
     "data": {
      "text/plain": [
       "    이름        측정일    몸무게\n",
       "회차                      \n",
       "1   철수 2029-01-01   76.4\n",
       "2   철수 2029-01-02   75.7\n",
       "3   철수 2029-01-03   76.0\n",
       "4   철수 2029-01-04  123.0\n",
       "5   철수 2029-01-05   76.2\n",
       "6   철수 2029-01-06   75.7\n",
       "7   철수 2029-01-07  123.0\n",
       "8   철수 2029-01-08  123.0\n",
       "9   철수 2029-01-09   75.0"
      ],
      "text/html": "<div>\n<style scoped>\n    .dataframe tbody tr th:only-of-type {\n        vertical-align: middle;\n    }\n\n    .dataframe tbody tr th {\n        vertical-align: top;\n    }\n\n    .dataframe thead th {\n        text-align: right;\n    }\n</style>\n<table border=\"1\" class=\"dataframe\">\n  <thead>\n    <tr style=\"text-align: right;\">\n      <th></th>\n      <th>이름</th>\n      <th>측정일</th>\n      <th>몸무게</th>\n    </tr>\n    <tr>\n      <th>회차</th>\n      <th></th>\n      <th></th>\n      <th></th>\n    </tr>\n  </thead>\n  <tbody>\n    <tr>\n      <th>1</th>\n      <td>철수</td>\n      <td>2029-01-01</td>\n      <td>76.4</td>\n    </tr>\n    <tr>\n      <th>2</th>\n      <td>철수</td>\n      <td>2029-01-02</td>\n      <td>75.7</td>\n    </tr>\n    <tr>\n      <th>3</th>\n      <td>철수</td>\n      <td>2029-01-03</td>\n      <td>76.0</td>\n    </tr>\n    <tr>\n      <th>4</th>\n      <td>철수</td>\n      <td>2029-01-04</td>\n      <td>123.0</td>\n    </tr>\n    <tr>\n      <th>5</th>\n      <td>철수</td>\n      <td>2029-01-05</td>\n      <td>76.2</td>\n    </tr>\n    <tr>\n      <th>6</th>\n      <td>철수</td>\n      <td>2029-01-06</td>\n      <td>75.7</td>\n    </tr>\n    <tr>\n      <th>7</th>\n      <td>철수</td>\n      <td>2029-01-07</td>\n      <td>123.0</td>\n    </tr>\n    <tr>\n      <th>8</th>\n      <td>철수</td>\n      <td>2029-01-08</td>\n      <td>123.0</td>\n    </tr>\n    <tr>\n      <th>9</th>\n      <td>철수</td>\n      <td>2029-01-09</td>\n      <td>75.0</td>\n    </tr>\n  </tbody>\n</table>\n</div>"
     },
     "metadata": {},
     "execution_count": 91
    }
   ],
   "source": [
    "columns=[\"이름\",\"측정일\",\"몸무게\"]\n",
    "data[[\"이름\",\"측정일\",\"몸무게\"]] # 이름이랑 측정일이랑 몸무게데이터 들고오기, 대괄호가 두개인 이유는 리스트자료라서 그럼 "
   ]
  },
  {
   "cell_type": "code",
   "execution_count": 102,
   "metadata": {},
   "outputs": [
    {
     "output_type": "error",
     "ename": "SyntaxError",
     "evalue": "invalid syntax (<ipython-input-102-4583e0c87e40>, line 1)",
     "traceback": [
      "\u001b[0;36m  File \u001b[0;32m\"<ipython-input-102-4583e0c87e40>\"\u001b[0;36m, line \u001b[0;32m1\u001b[0m\n\u001b[0;31m    data.loc[[:7]] #index출력\u001b[0m\n\u001b[0m              ^\u001b[0m\n\u001b[0;31mSyntaxError\u001b[0m\u001b[0;31m:\u001b[0m invalid syntax\n"
     ]
    }
   ],
   "source": [
    "data.loc[] #index출력"
   ]
  },
  {
   "cell_type": "code",
   "execution_count": 111,
   "metadata": {},
   "outputs": [
    {
     "output_type": "stream",
     "name": "stdout",
     "text": [
      "294 µs ± 31.9 µs per loop (mean ± std. dev. of 7 runs, 1000 loops each)\n"
     ]
    }
   ],
   "source": [
    "data.loc[1][\"이름\"] #첫번째 행과  이름을 출력 \n",
    "data.loc[1,\"이름\"] #이게더빠름 "
   ]
  },
  {
   "cell_type": "code",
   "execution_count": 114,
   "metadata": {},
   "outputs": [
    {
     "output_type": "execute_result",
     "data": {
      "text/plain": [
       "'철수'"
      ]
     },
     "metadata": {},
     "execution_count": 114
    }
   ],
   "source": [
    "data.at[1,\"이름\"] #at property는 두개이상에선 못함 "
   ]
  },
  {
   "source": [
    "# 색인"
   ],
   "cell_type": "markdown",
   "metadata": {}
  },
  {
   "cell_type": "code",
   "execution_count": 120,
   "metadata": {},
   "outputs": [
    {
     "output_type": "execute_result",
     "data": {
      "text/plain": [
       "    이름        측정일    몸무게  단위    담당   지점  뭄무게(prev)  뭄무게(post)\n",
       "회차                                                           \n",
       "1   철수 2029-01-01   76.4  kg  Kim1   강남        NaN       75.7\n",
       "2   철수 2029-01-02   75.7  kg  Kim1   강남       76.4       76.0\n",
       "3   철수 2029-01-03   76.0  kg  Kim1   강남       75.7      123.0\n",
       "4   철수 2029-01-04  123.0  kg  Kim1  여의도       76.0       76.2\n",
       "5   철수 2029-01-05   76.2  kg  Kim1   강남      123.0       75.7\n",
       "6   철수 2029-01-06   75.7  kg  Kim1  여의도       76.2      123.0\n",
       "7   철수 2029-01-07  123.0  kg  Kim1  여의도       75.7      123.0\n",
       "8   철수 2029-01-08  123.0  kg  Kim1  여의도      123.0       75.0\n",
       "9   철수 2029-01-09   75.0  kg  Kim1  여의도      123.0        NaN"
      ],
      "text/html": "<div>\n<style scoped>\n    .dataframe tbody tr th:only-of-type {\n        vertical-align: middle;\n    }\n\n    .dataframe tbody tr th {\n        vertical-align: top;\n    }\n\n    .dataframe thead th {\n        text-align: right;\n    }\n</style>\n<table border=\"1\" class=\"dataframe\">\n  <thead>\n    <tr style=\"text-align: right;\">\n      <th></th>\n      <th>이름</th>\n      <th>측정일</th>\n      <th>몸무게</th>\n      <th>단위</th>\n      <th>담당</th>\n      <th>지점</th>\n      <th>뭄무게(prev)</th>\n      <th>뭄무게(post)</th>\n    </tr>\n    <tr>\n      <th>회차</th>\n      <th></th>\n      <th></th>\n      <th></th>\n      <th></th>\n      <th></th>\n      <th></th>\n      <th></th>\n      <th></th>\n    </tr>\n  </thead>\n  <tbody>\n    <tr>\n      <th>1</th>\n      <td>철수</td>\n      <td>2029-01-01</td>\n      <td>76.4</td>\n      <td>kg</td>\n      <td>Kim1</td>\n      <td>강남</td>\n      <td>NaN</td>\n      <td>75.7</td>\n    </tr>\n    <tr>\n      <th>2</th>\n      <td>철수</td>\n      <td>2029-01-02</td>\n      <td>75.7</td>\n      <td>kg</td>\n      <td>Kim1</td>\n      <td>강남</td>\n      <td>76.4</td>\n      <td>76.0</td>\n    </tr>\n    <tr>\n      <th>3</th>\n      <td>철수</td>\n      <td>2029-01-03</td>\n      <td>76.0</td>\n      <td>kg</td>\n      <td>Kim1</td>\n      <td>강남</td>\n      <td>75.7</td>\n      <td>123.0</td>\n    </tr>\n    <tr>\n      <th>4</th>\n      <td>철수</td>\n      <td>2029-01-04</td>\n      <td>123.0</td>\n      <td>kg</td>\n      <td>Kim1</td>\n      <td>여의도</td>\n      <td>76.0</td>\n      <td>76.2</td>\n    </tr>\n    <tr>\n      <th>5</th>\n      <td>철수</td>\n      <td>2029-01-05</td>\n      <td>76.2</td>\n      <td>kg</td>\n      <td>Kim1</td>\n      <td>강남</td>\n      <td>123.0</td>\n      <td>75.7</td>\n    </tr>\n    <tr>\n      <th>6</th>\n      <td>철수</td>\n      <td>2029-01-06</td>\n      <td>75.7</td>\n      <td>kg</td>\n      <td>Kim1</td>\n      <td>여의도</td>\n      <td>76.2</td>\n      <td>123.0</td>\n    </tr>\n    <tr>\n      <th>7</th>\n      <td>철수</td>\n      <td>2029-01-07</td>\n      <td>123.0</td>\n      <td>kg</td>\n      <td>Kim1</td>\n      <td>여의도</td>\n      <td>75.7</td>\n      <td>123.0</td>\n    </tr>\n    <tr>\n      <th>8</th>\n      <td>철수</td>\n      <td>2029-01-08</td>\n      <td>123.0</td>\n      <td>kg</td>\n      <td>Kim1</td>\n      <td>여의도</td>\n      <td>123.0</td>\n      <td>75.0</td>\n    </tr>\n    <tr>\n      <th>9</th>\n      <td>철수</td>\n      <td>2029-01-09</td>\n      <td>75.0</td>\n      <td>kg</td>\n      <td>Kim1</td>\n      <td>여의도</td>\n      <td>123.0</td>\n      <td>NaN</td>\n    </tr>\n  </tbody>\n</table>\n</div>"
     },
     "metadata": {},
     "execution_count": 120
    }
   ],
   "source": [
    "data[data[\"담당\"]==\"Kim1\"] #담당열의 kim1을 출력"
   ]
  },
  {
   "cell_type": "code",
   "execution_count": 122,
   "metadata": {},
   "outputs": [
    {
     "output_type": "execute_result",
     "data": {
      "text/plain": [
       "    이름        측정일    몸무게  단위    담당   지점  뭄무게(prev)  뭄무게(post)\n",
       "회차                                                           \n",
       "1   철수 2029-01-01   76.4  kg  Kim1   강남        NaN       75.7\n",
       "4   철수 2029-01-04  123.0  kg  Kim1  여의도       76.0       76.2\n",
       "5   철수 2029-01-05   76.2  kg  Kim1   강남      123.0       75.7\n",
       "7   철수 2029-01-07  123.0  kg  Kim1  여의도       75.7      123.0\n",
       "8   철수 2029-01-08  123.0  kg  Kim1  여의도      123.0       75.0"
      ],
      "text/html": "<div>\n<style scoped>\n    .dataframe tbody tr th:only-of-type {\n        vertical-align: middle;\n    }\n\n    .dataframe tbody tr th {\n        vertical-align: top;\n    }\n\n    .dataframe thead th {\n        text-align: right;\n    }\n</style>\n<table border=\"1\" class=\"dataframe\">\n  <thead>\n    <tr style=\"text-align: right;\">\n      <th></th>\n      <th>이름</th>\n      <th>측정일</th>\n      <th>몸무게</th>\n      <th>단위</th>\n      <th>담당</th>\n      <th>지점</th>\n      <th>뭄무게(prev)</th>\n      <th>뭄무게(post)</th>\n    </tr>\n    <tr>\n      <th>회차</th>\n      <th></th>\n      <th></th>\n      <th></th>\n      <th></th>\n      <th></th>\n      <th></th>\n      <th></th>\n      <th></th>\n    </tr>\n  </thead>\n  <tbody>\n    <tr>\n      <th>1</th>\n      <td>철수</td>\n      <td>2029-01-01</td>\n      <td>76.4</td>\n      <td>kg</td>\n      <td>Kim1</td>\n      <td>강남</td>\n      <td>NaN</td>\n      <td>75.7</td>\n    </tr>\n    <tr>\n      <th>4</th>\n      <td>철수</td>\n      <td>2029-01-04</td>\n      <td>123.0</td>\n      <td>kg</td>\n      <td>Kim1</td>\n      <td>여의도</td>\n      <td>76.0</td>\n      <td>76.2</td>\n    </tr>\n    <tr>\n      <th>5</th>\n      <td>철수</td>\n      <td>2029-01-05</td>\n      <td>76.2</td>\n      <td>kg</td>\n      <td>Kim1</td>\n      <td>강남</td>\n      <td>123.0</td>\n      <td>75.7</td>\n    </tr>\n    <tr>\n      <th>7</th>\n      <td>철수</td>\n      <td>2029-01-07</td>\n      <td>123.0</td>\n      <td>kg</td>\n      <td>Kim1</td>\n      <td>여의도</td>\n      <td>75.7</td>\n      <td>123.0</td>\n    </tr>\n    <tr>\n      <th>8</th>\n      <td>철수</td>\n      <td>2029-01-08</td>\n      <td>123.0</td>\n      <td>kg</td>\n      <td>Kim1</td>\n      <td>여의도</td>\n      <td>123.0</td>\n      <td>75.0</td>\n    </tr>\n  </tbody>\n</table>\n</div>"
     },
     "metadata": {},
     "execution_count": 122
    }
   ],
   "source": [
    "data[data[\"몸무게\"]>76]  #76이넘는 회차 출력 "
   ]
  },
  {
   "cell_type": "code",
   "execution_count": 124,
   "metadata": {},
   "outputs": [
    {
     "output_type": "execute_result",
     "data": {
      "text/plain": [
       "회차\n",
       "1    False\n",
       "2    False\n",
       "3    False\n",
       "4    False\n",
       "5    False\n",
       "6    False\n",
       "7    False\n",
       "8    False\n",
       "9    False\n",
       "Name: 담당, dtype: bool"
      ]
     },
     "metadata": {},
     "execution_count": 124
    }
   ],
   "source": [
    "data[\"담당\"].isin([\"Choi\",\"Kim2\"]) #choi 와 kim2 의 담당열 출력 "
   ]
  },
  {
   "cell_type": "code",
   "execution_count": 127,
   "metadata": {},
   "outputs": [
    {
     "output_type": "execute_result",
     "data": {
      "text/plain": [
       "    이름        측정일    몸무게  단위    담당   지점  뭄무게(prev)  뭄무게(post)\n",
       "회차                                                           \n",
       "1   철수 2029-01-01   76.4  kg  Kim1   강남        NaN       75.7\n",
       "2   철수 2029-01-02   75.7  kg  Kim1   강남       76.4       76.0\n",
       "3   철수 2029-01-03   76.0  kg  Kim1   강남       75.7      123.0\n",
       "4   철수 2029-01-04  123.0  kg  Kim1  여의도       76.0       76.2\n",
       "5   철수 2029-01-05   76.2  kg  Kim1   강남      123.0       75.7\n",
       "6   철수 2029-01-06   75.7  kg  Kim1  여의도       76.2      123.0\n",
       "7   철수 2029-01-07  123.0  kg  Kim1  여의도       75.7      123.0\n",
       "8   철수 2029-01-08  123.0  kg  Kim1  여의도      123.0       75.0\n",
       "9   철수 2029-01-09   75.0  kg  Kim1  여의도      123.0        NaN"
      ],
      "text/html": "<div>\n<style scoped>\n    .dataframe tbody tr th:only-of-type {\n        vertical-align: middle;\n    }\n\n    .dataframe tbody tr th {\n        vertical-align: top;\n    }\n\n    .dataframe thead th {\n        text-align: right;\n    }\n</style>\n<table border=\"1\" class=\"dataframe\">\n  <thead>\n    <tr style=\"text-align: right;\">\n      <th></th>\n      <th>이름</th>\n      <th>측정일</th>\n      <th>몸무게</th>\n      <th>단위</th>\n      <th>담당</th>\n      <th>지점</th>\n      <th>뭄무게(prev)</th>\n      <th>뭄무게(post)</th>\n    </tr>\n    <tr>\n      <th>회차</th>\n      <th></th>\n      <th></th>\n      <th></th>\n      <th></th>\n      <th></th>\n      <th></th>\n      <th></th>\n      <th></th>\n    </tr>\n  </thead>\n  <tbody>\n    <tr>\n      <th>1</th>\n      <td>철수</td>\n      <td>2029-01-01</td>\n      <td>76.4</td>\n      <td>kg</td>\n      <td>Kim1</td>\n      <td>강남</td>\n      <td>NaN</td>\n      <td>75.7</td>\n    </tr>\n    <tr>\n      <th>2</th>\n      <td>철수</td>\n      <td>2029-01-02</td>\n      <td>75.7</td>\n      <td>kg</td>\n      <td>Kim1</td>\n      <td>강남</td>\n      <td>76.4</td>\n      <td>76.0</td>\n    </tr>\n    <tr>\n      <th>3</th>\n      <td>철수</td>\n      <td>2029-01-03</td>\n      <td>76.0</td>\n      <td>kg</td>\n      <td>Kim1</td>\n      <td>강남</td>\n      <td>75.7</td>\n      <td>123.0</td>\n    </tr>\n    <tr>\n      <th>4</th>\n      <td>철수</td>\n      <td>2029-01-04</td>\n      <td>123.0</td>\n      <td>kg</td>\n      <td>Kim1</td>\n      <td>여의도</td>\n      <td>76.0</td>\n      <td>76.2</td>\n    </tr>\n    <tr>\n      <th>5</th>\n      <td>철수</td>\n      <td>2029-01-05</td>\n      <td>76.2</td>\n      <td>kg</td>\n      <td>Kim1</td>\n      <td>강남</td>\n      <td>123.0</td>\n      <td>75.7</td>\n    </tr>\n    <tr>\n      <th>6</th>\n      <td>철수</td>\n      <td>2029-01-06</td>\n      <td>75.7</td>\n      <td>kg</td>\n      <td>Kim1</td>\n      <td>여의도</td>\n      <td>76.2</td>\n      <td>123.0</td>\n    </tr>\n    <tr>\n      <th>7</th>\n      <td>철수</td>\n      <td>2029-01-07</td>\n      <td>123.0</td>\n      <td>kg</td>\n      <td>Kim1</td>\n      <td>여의도</td>\n      <td>75.7</td>\n      <td>123.0</td>\n    </tr>\n    <tr>\n      <th>8</th>\n      <td>철수</td>\n      <td>2029-01-08</td>\n      <td>123.0</td>\n      <td>kg</td>\n      <td>Kim1</td>\n      <td>여의도</td>\n      <td>123.0</td>\n      <td>75.0</td>\n    </tr>\n    <tr>\n      <th>9</th>\n      <td>철수</td>\n      <td>2029-01-09</td>\n      <td>75.0</td>\n      <td>kg</td>\n      <td>Kim1</td>\n      <td>여의도</td>\n      <td>123.0</td>\n      <td>NaN</td>\n    </tr>\n  </tbody>\n</table>\n</div>"
     },
     "metadata": {},
     "execution_count": 127
    }
   ],
   "source": [
    "data[data[\"담당\"].str.contains(\"Kim\")] #kim이란 값만 뽑아오기"
   ]
  },
  {
   "cell_type": "code",
   "execution_count": 131,
   "metadata": {},
   "outputs": [
    {
     "output_type": "execute_result",
     "data": {
      "text/plain": [
       "    이름        측정일   몸무게  단위    담당  지점  뭄무게(prev)  뭄무게(post)\n",
       "회차                                                         \n",
       "1   철수 2029-01-01  76.4  kg  Kim1  강남        NaN       75.7"
      ],
      "text/html": "<div>\n<style scoped>\n    .dataframe tbody tr th:only-of-type {\n        vertical-align: middle;\n    }\n\n    .dataframe tbody tr th {\n        vertical-align: top;\n    }\n\n    .dataframe thead th {\n        text-align: right;\n    }\n</style>\n<table border=\"1\" class=\"dataframe\">\n  <thead>\n    <tr style=\"text-align: right;\">\n      <th></th>\n      <th>이름</th>\n      <th>측정일</th>\n      <th>몸무게</th>\n      <th>단위</th>\n      <th>담당</th>\n      <th>지점</th>\n      <th>뭄무게(prev)</th>\n      <th>뭄무게(post)</th>\n    </tr>\n    <tr>\n      <th>회차</th>\n      <th></th>\n      <th></th>\n      <th></th>\n      <th></th>\n      <th></th>\n      <th></th>\n      <th></th>\n      <th></th>\n    </tr>\n  </thead>\n  <tbody>\n    <tr>\n      <th>1</th>\n      <td>철수</td>\n      <td>2029-01-01</td>\n      <td>76.4</td>\n      <td>kg</td>\n      <td>Kim1</td>\n      <td>강남</td>\n      <td>NaN</td>\n      <td>75.7</td>\n    </tr>\n  </tbody>\n</table>\n</div>"
     },
     "metadata": {},
     "execution_count": 131
    }
   ],
   "source": [
    "data[data[\"뭄무게(prev)\"].isnull()] #nan이있는 값의 T/F 표시 "
   ]
  },
  {
   "cell_type": "code",
   "execution_count": 132,
   "metadata": {},
   "outputs": [
    {
     "output_type": "execute_result",
     "data": {
      "text/plain": [
       "    이름        측정일    몸무게  단위    담당   지점  뭄무게(prev)  뭄무게(post)\n",
       "회차                                                           \n",
       "2   철수 2029-01-02   75.7  kg  Kim1   강남       76.4       76.0\n",
       "3   철수 2029-01-03   76.0  kg  Kim1   강남       75.7      123.0\n",
       "4   철수 2029-01-04  123.0  kg  Kim1  여의도       76.0       76.2\n",
       "5   철수 2029-01-05   76.2  kg  Kim1   강남      123.0       75.7\n",
       "6   철수 2029-01-06   75.7  kg  Kim1  여의도       76.2      123.0\n",
       "7   철수 2029-01-07  123.0  kg  Kim1  여의도       75.7      123.0\n",
       "8   철수 2029-01-08  123.0  kg  Kim1  여의도      123.0       75.0\n",
       "9   철수 2029-01-09   75.0  kg  Kim1  여의도      123.0        NaN"
      ],
      "text/html": "<div>\n<style scoped>\n    .dataframe tbody tr th:only-of-type {\n        vertical-align: middle;\n    }\n\n    .dataframe tbody tr th {\n        vertical-align: top;\n    }\n\n    .dataframe thead th {\n        text-align: right;\n    }\n</style>\n<table border=\"1\" class=\"dataframe\">\n  <thead>\n    <tr style=\"text-align: right;\">\n      <th></th>\n      <th>이름</th>\n      <th>측정일</th>\n      <th>몸무게</th>\n      <th>단위</th>\n      <th>담당</th>\n      <th>지점</th>\n      <th>뭄무게(prev)</th>\n      <th>뭄무게(post)</th>\n    </tr>\n    <tr>\n      <th>회차</th>\n      <th></th>\n      <th></th>\n      <th></th>\n      <th></th>\n      <th></th>\n      <th></th>\n      <th></th>\n      <th></th>\n    </tr>\n  </thead>\n  <tbody>\n    <tr>\n      <th>2</th>\n      <td>철수</td>\n      <td>2029-01-02</td>\n      <td>75.7</td>\n      <td>kg</td>\n      <td>Kim1</td>\n      <td>강남</td>\n      <td>76.4</td>\n      <td>76.0</td>\n    </tr>\n    <tr>\n      <th>3</th>\n      <td>철수</td>\n      <td>2029-01-03</td>\n      <td>76.0</td>\n      <td>kg</td>\n      <td>Kim1</td>\n      <td>강남</td>\n      <td>75.7</td>\n      <td>123.0</td>\n    </tr>\n    <tr>\n      <th>4</th>\n      <td>철수</td>\n      <td>2029-01-04</td>\n      <td>123.0</td>\n      <td>kg</td>\n      <td>Kim1</td>\n      <td>여의도</td>\n      <td>76.0</td>\n      <td>76.2</td>\n    </tr>\n    <tr>\n      <th>5</th>\n      <td>철수</td>\n      <td>2029-01-05</td>\n      <td>76.2</td>\n      <td>kg</td>\n      <td>Kim1</td>\n      <td>강남</td>\n      <td>123.0</td>\n      <td>75.7</td>\n    </tr>\n    <tr>\n      <th>6</th>\n      <td>철수</td>\n      <td>2029-01-06</td>\n      <td>75.7</td>\n      <td>kg</td>\n      <td>Kim1</td>\n      <td>여의도</td>\n      <td>76.2</td>\n      <td>123.0</td>\n    </tr>\n    <tr>\n      <th>7</th>\n      <td>철수</td>\n      <td>2029-01-07</td>\n      <td>123.0</td>\n      <td>kg</td>\n      <td>Kim1</td>\n      <td>여의도</td>\n      <td>75.7</td>\n      <td>123.0</td>\n    </tr>\n    <tr>\n      <th>8</th>\n      <td>철수</td>\n      <td>2029-01-08</td>\n      <td>123.0</td>\n      <td>kg</td>\n      <td>Kim1</td>\n      <td>여의도</td>\n      <td>123.0</td>\n      <td>75.0</td>\n    </tr>\n    <tr>\n      <th>9</th>\n      <td>철수</td>\n      <td>2029-01-09</td>\n      <td>75.0</td>\n      <td>kg</td>\n      <td>Kim1</td>\n      <td>여의도</td>\n      <td>123.0</td>\n      <td>NaN</td>\n    </tr>\n  </tbody>\n</table>\n</div>"
     },
     "metadata": {},
     "execution_count": 132
    }
   ],
   "source": [
    "data[data[\"뭄무게(prev)\"].notnull()] #nan가 아닌값만 표시 "
   ]
  },
  {
   "cell_type": "code",
   "execution_count": 136,
   "metadata": {},
   "outputs": [
    {
     "output_type": "execute_result",
     "data": {
      "text/plain": [
       "회차\n",
       "1     True\n",
       "2     True\n",
       "3     True\n",
       "4     True\n",
       "5     True\n",
       "6     True\n",
       "7     True\n",
       "8     True\n",
       "9    False\n",
       "dtype: bool"
      ]
     },
     "metadata": {},
     "execution_count": 136
    }
   ],
   "source": [
    "(data[\"몸무게\"]>75.5) & (data[\"담당\"]==\"Kim1\")   #몸무게가 75.5보다크고 Kim1이 담당한데이터, 각조건마다 ()걸어놔야함 "
   ]
  },
  {
   "source": [
    "# 컬럼 추가및 수정 "
   ],
   "cell_type": "markdown",
   "metadata": {}
  },
  {
   "cell_type": "code",
   "execution_count": 139,
   "metadata": {},
   "outputs": [],
   "source": [
    "data[\"지역\"] = \"서울\"  #서울이란 행만들기 "
   ]
  },
  {
   "cell_type": "code",
   "execution_count": 145,
   "metadata": {},
   "outputs": [],
   "source": [
    "data[\"결제\"] = [True, True, True, True, False, True, True, False ,True]"
   ]
  },
  {
   "cell_type": "code",
   "execution_count": 148,
   "metadata": {},
   "outputs": [
    {
     "output_type": "execute_result",
     "data": {
      "text/plain": [
       "              몸무게\n",
       "지점  담당           \n",
       "강남  Kim1   76.075\n",
       "여의도 Kim1  103.940"
      ],
      "text/html": "<div>\n<style scoped>\n    .dataframe tbody tr th:only-of-type {\n        vertical-align: middle;\n    }\n\n    .dataframe tbody tr th {\n        vertical-align: top;\n    }\n\n    .dataframe thead th {\n        text-align: right;\n    }\n</style>\n<table border=\"1\" class=\"dataframe\">\n  <thead>\n    <tr style=\"text-align: right;\">\n      <th></th>\n      <th></th>\n      <th>몸무게</th>\n    </tr>\n    <tr>\n      <th>지점</th>\n      <th>담당</th>\n      <th></th>\n    </tr>\n  </thead>\n  <tbody>\n    <tr>\n      <th>강남</th>\n      <th>Kim1</th>\n      <td>76.075</td>\n    </tr>\n    <tr>\n      <th>여의도</th>\n      <th>Kim1</th>\n      <td>103.940</td>\n    </tr>\n  </tbody>\n</table>\n</div>"
     },
     "metadata": {},
     "execution_count": 148
    }
   ],
   "source": [
    "pd.pivot_table(data, index=\"담당\", values=\"몸무게\")# pivot table 사용  불러올데이터, 행 , 값 "
   ]
  },
  {
   "cell_type": "code",
   "execution_count": 153,
   "metadata": {},
   "outputs": [
    {
     "output_type": "execute_result",
     "data": {
      "text/plain": [
       "            몸무게\n",
       "지점  담당         \n",
       "강남  Kim1  304.3\n",
       "여의도 Kim1  519.7"
      ],
      "text/html": "<div>\n<style scoped>\n    .dataframe tbody tr th:only-of-type {\n        vertical-align: middle;\n    }\n\n    .dataframe tbody tr th {\n        vertical-align: top;\n    }\n\n    .dataframe thead th {\n        text-align: right;\n    }\n</style>\n<table border=\"1\" class=\"dataframe\">\n  <thead>\n    <tr style=\"text-align: right;\">\n      <th></th>\n      <th></th>\n      <th>몸무게</th>\n    </tr>\n    <tr>\n      <th>지점</th>\n      <th>담당</th>\n      <th></th>\n    </tr>\n  </thead>\n  <tbody>\n    <tr>\n      <th>강남</th>\n      <th>Kim1</th>\n      <td>304.3</td>\n    </tr>\n    <tr>\n      <th>여의도</th>\n      <th>Kim1</th>\n      <td>519.7</td>\n    </tr>\n  </tbody>\n</table>\n</div>"
     },
     "metadata": {},
     "execution_count": 153
    }
   ],
   "source": [
    "pd.pivot_table(data, index=[\"지점\", \"담당\"], values=\"몸무게\", aggfunc=\"sum\") #여러개 인덱스와 함수추가 \n",
    "\n"
   ]
  },
  {
   "source": [
    "# 칼럼삭제"
   ],
   "cell_type": "markdown",
   "metadata": {}
  },
  {
   "cell_type": "code",
   "execution_count": 155,
   "metadata": {},
   "outputs": [
    {
     "output_type": "execute_result",
     "data": {
      "text/plain": [
       "    이름        측정일    몸무게  단위    담당   지점  뭄무게(prev)  뭄무게(post)  지역     결제\n",
       "회차                                                                      \n",
       "2   철수 2029-01-02   75.7  kg  Kim1   강남       76.4       76.0  서울   True\n",
       "3   철수 2029-01-03   76.0  kg  Kim1   강남       75.7      123.0  서울   True\n",
       "4   철수 2029-01-04  123.0  kg  Kim1  여의도       76.0       76.2  서울   True\n",
       "5   철수 2029-01-05   76.2  kg  Kim1   강남      123.0       75.7  서울  False\n",
       "6   철수 2029-01-06   75.7  kg  Kim1  여의도       76.2      123.0  서울   True\n",
       "7   철수 2029-01-07  123.0  kg  Kim1  여의도       75.7      123.0  서울   True\n",
       "8   철수 2029-01-08  123.0  kg  Kim1  여의도      123.0       75.0  서울  False\n",
       "9   철수 2029-01-09   75.0  kg  Kim1  여의도      123.0        NaN  서울   True"
      ],
      "text/html": "<div>\n<style scoped>\n    .dataframe tbody tr th:only-of-type {\n        vertical-align: middle;\n    }\n\n    .dataframe tbody tr th {\n        vertical-align: top;\n    }\n\n    .dataframe thead th {\n        text-align: right;\n    }\n</style>\n<table border=\"1\" class=\"dataframe\">\n  <thead>\n    <tr style=\"text-align: right;\">\n      <th></th>\n      <th>이름</th>\n      <th>측정일</th>\n      <th>몸무게</th>\n      <th>단위</th>\n      <th>담당</th>\n      <th>지점</th>\n      <th>뭄무게(prev)</th>\n      <th>뭄무게(post)</th>\n      <th>지역</th>\n      <th>결제</th>\n    </tr>\n    <tr>\n      <th>회차</th>\n      <th></th>\n      <th></th>\n      <th></th>\n      <th></th>\n      <th></th>\n      <th></th>\n      <th></th>\n      <th></th>\n      <th></th>\n      <th></th>\n    </tr>\n  </thead>\n  <tbody>\n    <tr>\n      <th>2</th>\n      <td>철수</td>\n      <td>2029-01-02</td>\n      <td>75.7</td>\n      <td>kg</td>\n      <td>Kim1</td>\n      <td>강남</td>\n      <td>76.4</td>\n      <td>76.0</td>\n      <td>서울</td>\n      <td>True</td>\n    </tr>\n    <tr>\n      <th>3</th>\n      <td>철수</td>\n      <td>2029-01-03</td>\n      <td>76.0</td>\n      <td>kg</td>\n      <td>Kim1</td>\n      <td>강남</td>\n      <td>75.7</td>\n      <td>123.0</td>\n      <td>서울</td>\n      <td>True</td>\n    </tr>\n    <tr>\n      <th>4</th>\n      <td>철수</td>\n      <td>2029-01-04</td>\n      <td>123.0</td>\n      <td>kg</td>\n      <td>Kim1</td>\n      <td>여의도</td>\n      <td>76.0</td>\n      <td>76.2</td>\n      <td>서울</td>\n      <td>True</td>\n    </tr>\n    <tr>\n      <th>5</th>\n      <td>철수</td>\n      <td>2029-01-05</td>\n      <td>76.2</td>\n      <td>kg</td>\n      <td>Kim1</td>\n      <td>강남</td>\n      <td>123.0</td>\n      <td>75.7</td>\n      <td>서울</td>\n      <td>False</td>\n    </tr>\n    <tr>\n      <th>6</th>\n      <td>철수</td>\n      <td>2029-01-06</td>\n      <td>75.7</td>\n      <td>kg</td>\n      <td>Kim1</td>\n      <td>여의도</td>\n      <td>76.2</td>\n      <td>123.0</td>\n      <td>서울</td>\n      <td>True</td>\n    </tr>\n    <tr>\n      <th>7</th>\n      <td>철수</td>\n      <td>2029-01-07</td>\n      <td>123.0</td>\n      <td>kg</td>\n      <td>Kim1</td>\n      <td>여의도</td>\n      <td>75.7</td>\n      <td>123.0</td>\n      <td>서울</td>\n      <td>True</td>\n    </tr>\n    <tr>\n      <th>8</th>\n      <td>철수</td>\n      <td>2029-01-08</td>\n      <td>123.0</td>\n      <td>kg</td>\n      <td>Kim1</td>\n      <td>여의도</td>\n      <td>123.0</td>\n      <td>75.0</td>\n      <td>서울</td>\n      <td>False</td>\n    </tr>\n    <tr>\n      <th>9</th>\n      <td>철수</td>\n      <td>2029-01-09</td>\n      <td>75.0</td>\n      <td>kg</td>\n      <td>Kim1</td>\n      <td>여의도</td>\n      <td>123.0</td>\n      <td>NaN</td>\n      <td>서울</td>\n      <td>True</td>\n    </tr>\n  </tbody>\n</table>\n</div>"
     },
     "metadata": {},
     "execution_count": 155
    }
   ],
   "source": [
    "data.drop(1) #1행 삭제 "
   ]
  },
  {
   "cell_type": "code",
   "execution_count": 158,
   "metadata": {},
   "outputs": [
    {
     "output_type": "execute_result",
     "data": {
      "text/plain": [
       "    이름        측정일    몸무게  단위    담당   지점  뭄무게(post)  지역     결제\n",
       "회차                                                           \n",
       "1   철수 2029-01-01   76.4  kg  Kim1   강남       75.7  서울   True\n",
       "2   철수 2029-01-02   75.7  kg  Kim1   강남       76.0  서울   True\n",
       "3   철수 2029-01-03   76.0  kg  Kim1   강남      123.0  서울   True\n",
       "4   철수 2029-01-04  123.0  kg  Kim1  여의도       76.2  서울   True\n",
       "5   철수 2029-01-05   76.2  kg  Kim1   강남       75.7  서울  False\n",
       "6   철수 2029-01-06   75.7  kg  Kim1  여의도      123.0  서울   True\n",
       "7   철수 2029-01-07  123.0  kg  Kim1  여의도      123.0  서울   True\n",
       "8   철수 2029-01-08  123.0  kg  Kim1  여의도       75.0  서울  False\n",
       "9   철수 2029-01-09   75.0  kg  Kim1  여의도        NaN  서울   True"
      ],
      "text/html": "<div>\n<style scoped>\n    .dataframe tbody tr th:only-of-type {\n        vertical-align: middle;\n    }\n\n    .dataframe tbody tr th {\n        vertical-align: top;\n    }\n\n    .dataframe thead th {\n        text-align: right;\n    }\n</style>\n<table border=\"1\" class=\"dataframe\">\n  <thead>\n    <tr style=\"text-align: right;\">\n      <th></th>\n      <th>이름</th>\n      <th>측정일</th>\n      <th>몸무게</th>\n      <th>단위</th>\n      <th>담당</th>\n      <th>지점</th>\n      <th>뭄무게(post)</th>\n      <th>지역</th>\n      <th>결제</th>\n    </tr>\n    <tr>\n      <th>회차</th>\n      <th></th>\n      <th></th>\n      <th></th>\n      <th></th>\n      <th></th>\n      <th></th>\n      <th></th>\n      <th></th>\n      <th></th>\n    </tr>\n  </thead>\n  <tbody>\n    <tr>\n      <th>1</th>\n      <td>철수</td>\n      <td>2029-01-01</td>\n      <td>76.4</td>\n      <td>kg</td>\n      <td>Kim1</td>\n      <td>강남</td>\n      <td>75.7</td>\n      <td>서울</td>\n      <td>True</td>\n    </tr>\n    <tr>\n      <th>2</th>\n      <td>철수</td>\n      <td>2029-01-02</td>\n      <td>75.7</td>\n      <td>kg</td>\n      <td>Kim1</td>\n      <td>강남</td>\n      <td>76.0</td>\n      <td>서울</td>\n      <td>True</td>\n    </tr>\n    <tr>\n      <th>3</th>\n      <td>철수</td>\n      <td>2029-01-03</td>\n      <td>76.0</td>\n      <td>kg</td>\n      <td>Kim1</td>\n      <td>강남</td>\n      <td>123.0</td>\n      <td>서울</td>\n      <td>True</td>\n    </tr>\n    <tr>\n      <th>4</th>\n      <td>철수</td>\n      <td>2029-01-04</td>\n      <td>123.0</td>\n      <td>kg</td>\n      <td>Kim1</td>\n      <td>여의도</td>\n      <td>76.2</td>\n      <td>서울</td>\n      <td>True</td>\n    </tr>\n    <tr>\n      <th>5</th>\n      <td>철수</td>\n      <td>2029-01-05</td>\n      <td>76.2</td>\n      <td>kg</td>\n      <td>Kim1</td>\n      <td>강남</td>\n      <td>75.7</td>\n      <td>서울</td>\n      <td>False</td>\n    </tr>\n    <tr>\n      <th>6</th>\n      <td>철수</td>\n      <td>2029-01-06</td>\n      <td>75.7</td>\n      <td>kg</td>\n      <td>Kim1</td>\n      <td>여의도</td>\n      <td>123.0</td>\n      <td>서울</td>\n      <td>True</td>\n    </tr>\n    <tr>\n      <th>7</th>\n      <td>철수</td>\n      <td>2029-01-07</td>\n      <td>123.0</td>\n      <td>kg</td>\n      <td>Kim1</td>\n      <td>여의도</td>\n      <td>123.0</td>\n      <td>서울</td>\n      <td>True</td>\n    </tr>\n    <tr>\n      <th>8</th>\n      <td>철수</td>\n      <td>2029-01-08</td>\n      <td>123.0</td>\n      <td>kg</td>\n      <td>Kim1</td>\n      <td>여의도</td>\n      <td>75.0</td>\n      <td>서울</td>\n      <td>False</td>\n    </tr>\n    <tr>\n      <th>9</th>\n      <td>철수</td>\n      <td>2029-01-09</td>\n      <td>75.0</td>\n      <td>kg</td>\n      <td>Kim1</td>\n      <td>여의도</td>\n      <td>NaN</td>\n      <td>서울</td>\n      <td>True</td>\n    </tr>\n  </tbody>\n</table>\n</div>"
     },
     "metadata": {},
     "execution_count": 158
    }
   ],
   "source": [
    "data.drop([\"결제\",\"뭄무게(prev)\"], axis=\"columns\") #행삭제 "
   ]
  },
  {
   "cell_type": "code",
   "execution_count": null,
   "metadata": {},
   "outputs": [],
   "source": []
  },
  {
   "cell_type": "code",
   "execution_count": null,
   "metadata": {},
   "outputs": [],
   "source": []
  },
  {
   "cell_type": "code",
   "execution_count": null,
   "metadata": {},
   "outputs": [],
   "source": []
  }
 ]
}
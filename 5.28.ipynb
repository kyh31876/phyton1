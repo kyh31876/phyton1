{
 "metadata": {
  "language_info": {
   "codemirror_mode": {
    "name": "ipython",
    "version": 3
   },
   "file_extension": ".py",
   "mimetype": "text/x-python",
   "name": "python",
   "nbconvert_exporter": "python",
   "pygments_lexer": "ipython3",
   "version": "3.8.2"
  },
  "orig_nbformat": 2,
  "kernelspec": {
   "name": "python382jvsc74a57bd031f2aee4e71d21fbe5cf8b01ff0e069b9275f58929596ceb00d14d90e3e16cd6",
   "display_name": "Python 3.8.2 64-bit"
  },
  "metadata": {
   "interpreter": {
    "hash": "31f2aee4e71d21fbe5cf8b01ff0e069b9275f58929596ceb00d14d90e3e16cd6"
   }
  }
 },
 "nbformat": 4,
 "nbformat_minor": 2,
 "cells": [
  {
   "cell_type": "code",
   "execution_count": 2,
   "metadata": {},
   "outputs": [
    {
     "output_type": "stream",
     "name": "stdout",
     "text": [
      "1234초는,0시간 20분 34초 입니다\n"
     ]
    }
   ],
   "source": [
    "fullsec = int(input(\"초를입력해주세요: \")) #왼쪽이 함수 오른쪽이 넣는값\n",
    "hour = (fullsec // 60) // 60\n",
    "minute = (fullsec // 60) % 60\n",
    "seconds = fullsec % 60\n",
    "print(\"%d초는\" %fullsec, end=\",\")\n",
    "print(\"%d시간 %d분 %d초 입니다\" %(hour, minute, seconds))\n"
   ]
  },
  {
   "cell_type": "code",
   "execution_count": 3,
   "metadata": {},
   "outputs": [
    {
     "output_type": "stream",
     "name": "stdout",
     "text": [
      "10 미터 입니다. .\n"
     ]
    }
   ],
   "source": [
    "ft = int(input(\"피트입력 : \"))\n",
    "meter = ft * 0.3048 \n",
    "print(\"%d 미터 입니다. .\" %meter)\n"
   ]
  },
  {
   "cell_type": "code",
   "execution_count": 4,
   "metadata": {},
   "outputs": [
    {
     "output_type": "stream",
     "name": "stdout",
     "text": [
      " 9 피트 입니다.\n"
     ]
    }
   ],
   "source": [
    "mt = int(input(\"미터 입력 : \"))\n",
    "feet = mt * 3.281\n",
    "print(\" %d 피트 입니다.\" %feet)\n",
    "\n"
   ]
  },
  {
   "cell_type": "code",
   "execution_count": 5,
   "metadata": {},
   "outputs": [
    {
     "output_type": "stream",
     "name": "stdout",
     "text": [
      "Answer: 7.0\n"
     ]
    }
   ],
   "source": [
    "\n",
    "num1 = input(\"첫번째 operand:\") \n",
    "num2 = input(\"두번쨰 operand:\")\n",
    "operator = input(\"Operator (+, -, *, /):\")\n",
    "num1 = float(num1)\n",
    "num2 = float(num2)\n",
    "\n",
    "\n",
    "if operator == \"+\":\n",
    "    out =  num1 + num2\n",
    "elif operator == \"-\":\n",
    "    out = num1 - num2\n",
    "elif operator == \"*\":\n",
    "    out = num1 * num2\n",
    "elif operator == \"/\":\n",
    "    out = num1 / num2\n",
    "print(\"Answer: \" + str(out))\n",
    "    \n"
   ]
  },
  {
   "cell_type": "code",
   "execution_count": 10,
   "metadata": {},
   "outputs": [
    {
     "output_type": "stream",
     "name": "stdout",
     "text": [
      "child\n"
     ]
    }
   ],
   "source": [
    "age= int(input(\"나이를 입력하세요:\")) \n",
    "if age <= 14 :\n",
    "    print(\"child\") #조건만족 할때 \n",
    "else:\n",
    "    print (\"they are adult\")\n"
   ]
  },
  {
   "cell_type": "code",
   "execution_count": 11,
   "metadata": {},
   "outputs": [
    {
     "output_type": "stream",
     "name": "stdout",
     "text": [
      "even number\n"
     ]
    }
   ],
   "source": [
    "number=int(input(\"input number:\")) # even odd 판별\n",
    "if number % 2  == 0: \n",
    "    print(\"even number\")\n",
    "else:\n",
    "    print (\"odd number\")\n"
   ]
  },
  {
   "cell_type": "code",
   "execution_count": null,
   "metadata": {},
   "outputs": [],
   "source": []
  }
 ]
}
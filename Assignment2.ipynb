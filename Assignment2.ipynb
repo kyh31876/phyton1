{
 "cells": [
  {
   "cell_type": "markdown",
   "metadata": {},
   "source": [
    "# 문제1: 기름 가격 계산 코드작성하기\n",
    "\n",
    "#### 기름을 많이 사면 할인해준다.\n",
    "* 0리터 ~ 20리터     : 리터당 100원\n",
    "* 20리터~40리터     : 리터당 80원\n",
    "* 40리터 이상          : 리터당 60원\n",
    "#### 예를들어, 35리터를 구입했다면, 가격은 3200원 (20\\*100+15\\*80).\n",
    "\n",
    "#### 해당 코드를 작성하고, 최종적으로는 50리터를 샀을때 가격을 계산하여 결과를 출력하시오."
   ]
  },
  {
   "cell_type": "code",
   "execution_count": 2,
   "metadata": {},
   "outputs": [
    {
     "output_type": "stream",
     "name": "stdout",
     "text": [
      "35 3200\n"
     ]
    }
   ],
   "source": [
    "liter = 35\n",
    "\n",
    "if liter <=20:\n",
    "    price = 100*liter\n",
    "else:\n",
    "    price = 100*20 + 80 *(liter -20)\n",
    "    \n",
    "print(liter,price)\n"
   ]
  },
  {
   "cell_type": "code",
   "execution_count": 3,
   "metadata": {},
   "outputs": [
    {
     "output_type": "error",
     "ename": "SyntaxError",
     "evalue": "invalid syntax (<ipython-input-3-7e16cb2a7faa>, line 4)",
     "traceback": [
      "\u001b[0;36m  File \u001b[0;32m\"<ipython-input-3-7e16cb2a7faa>\"\u001b[0;36m, line \u001b[0;32m4\u001b[0m\n\u001b[0;31m    elif\u001b[0m\n\u001b[0m    ^\u001b[0m\n\u001b[0;31mSyntaxError\u001b[0m\u001b[0;31m:\u001b[0m invalid syntax\n"
     ]
    }
   ],
   "source": [
    "liter =35 \n",
    "if liter <= 20:\n",
    "\n",
    "    elif "
   ]
  },
  {
   "cell_type": "markdown",
   "metadata": {},
   "source": [
    "# 위의 코드를 변형하여 작성을 완료하시오."
   ]
  },
  {
   "cell_type": "code",
   "execution_count": null,
   "metadata": {},
   "outputs": [],
   "source": []
  },
  {
   "cell_type": "code",
   "execution_count": null,
   "metadata": {},
   "outputs": [],
   "source": []
  },
  {
   "cell_type": "code",
   "execution_count": null,
   "metadata": {},
   "outputs": [],
   "source": []
  },
  {
   "cell_type": "markdown",
   "metadata": {},
   "source": [
    "# 문제2: 369게임 만들기\n",
    "\n",
    "369 게임은 다음과 같습니다.\n",
    "\n",
    "1. 1부터 시작해서 숫자를 하나씩 센다.\n",
    "2. 숫자에 3이나, 6이나, 9가 있을 경우 박수(clap)를 친다. (예를 들어, 33은 박수를 두 번 쳐야한다.)\n",
    "3. 지정한 최대 숫자까지 도달하면 프로그램을 종료한다.\n",
    "\n",
    "#### 해당 코드를 작성(완성)하고, 최종적으로는 지정한 최대 숫자(ex: 100 또는 더 큰 수)까지 실행했을때의 결과를 출력하시오.\n",
    "#### Tips: 파이썬 문자열의 count 함수(메소드)를 활용"
   ]
  },
  {
   "cell_type": "code",
   "execution_count": 1,
   "metadata": {},
   "outputs": [
    {
     "name": "stdout",
     "output_type": "stream",
     "text": [
      "0\n",
      "1\n",
      "2\n",
      "3 clap!\n",
      "4\n",
      "5\n",
      "6 clap!\n",
      "7\n",
      "8\n",
      "9 clap!\n",
      "10\n",
      "11\n",
      "12\n",
      "13 clap!\n",
      "14\n",
      "15\n",
      "16 clap!\n",
      "17\n",
      "18\n",
      "19 clap!\n",
      "20\n",
      "21\n",
      "22\n",
      "23 clap!\n",
      "24\n",
      "25\n",
      "26 clap!\n",
      "27\n",
      "28\n",
      "29 clap!\n",
      "30 clap!\n",
      "31 clap!\n",
      "32 clap!\n",
      "33 clap!\n",
      "34 clap!\n",
      "35 clap!\n",
      "36 clap!\n",
      "37 clap!\n",
      "38 clap!\n",
      "39 clap!\n",
      "40\n",
      "41\n",
      "42\n",
      "43 clap!\n",
      "44\n",
      "45\n",
      "46 clap!\n",
      "47\n",
      "48\n",
      "49 clap!\n",
      "50\n",
      "51\n",
      "52\n",
      "53 clap!\n",
      "54\n",
      "55\n",
      "56 clap!\n",
      "57\n",
      "58\n",
      "59 clap!\n",
      "60 clap!\n",
      "61 clap!\n",
      "62 clap!\n",
      "63 clap!\n",
      "64 clap!\n",
      "65 clap!\n",
      "66 clap!\n",
      "67 clap!\n",
      "68 clap!\n",
      "69 clap!\n",
      "70\n",
      "71\n",
      "72\n",
      "73 clap!\n",
      "74\n",
      "75\n",
      "76 clap!\n",
      "77\n",
      "78\n",
      "79 clap!\n",
      "80\n",
      "81\n",
      "82\n",
      "83 clap!\n",
      "84\n",
      "85\n",
      "86 clap!\n",
      "87\n",
      "88\n",
      "89 clap!\n",
      "90 clap!\n",
      "91 clap!\n",
      "92 clap!\n",
      "93 clap!\n",
      "94 clap!\n",
      "95 clap!\n",
      "96 clap!\n",
      "97 clap!\n",
      "98 clap!\n",
      "99 clap!\n"
     ]
    }
   ],
   "source": [
    "count = 100\n",
    "\n",
    "for n in range(count):\n",
    "    n_text = str(n)\n",
    "    \n",
    "    if \"3\" in n_text or \"6\" in n_text or \"9\" in n_text:\n",
    "        print(n, \"clap!\")\n",
    "    else:\n",
    "        print(n)"
   ]
  },
  {
   "cell_type": "markdown",
   "metadata": {},
   "source": [
    "# 위의 코드를 변형하여 작성을 완료하시오."
   ]
  },
  {
   "cell_type": "code",
   "execution_count": null,
   "metadata": {},
   "outputs": [],
   "source": []
  },
  {
   "cell_type": "code",
   "execution_count": null,
   "metadata": {},
   "outputs": [],
   "source": []
  },
  {
   "cell_type": "code",
   "execution_count": null,
   "metadata": {},
   "outputs": [],
   "source": []
  },
  {
   "cell_type": "code",
   "execution_count": null,
   "metadata": {},
   "outputs": [],
   "source": []
  }
 ],
 "metadata": {
  "kernelspec": {
   "name": "python385jvsc74a57bd077ce2973aab2b48623e88611d791d1b5e95b350fd497be4f1befd89e3cecb4c1",
   "display_name": "Python 3.8.5 64-bit ('base': conda)"
  },
  "language_info": {
   "codemirror_mode": {
    "name": "ipython",
    "version": 3
   },
   "file_extension": ".py",
   "mimetype": "text/x-python",
   "name": "python",
   "nbconvert_exporter": "python",
   "pygments_lexer": "ipython3",
   "version": "3.8.5"
  }
 },
 "nbformat": 4,
 "nbformat_minor": 2
}
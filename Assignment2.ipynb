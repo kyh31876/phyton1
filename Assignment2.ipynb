{
 "cells": [
  {
   "cell_type": "markdown",
   "metadata": {},
   "source": [
    "# 문제1: 기름 가격 계산 코드작성하기\n",
    "\n",
    "#### 기름을 많이 사면 할인해준다.\n",
    "* 0리터 ~ 20리터     : 리터당 100원\n",
    "* 20리터~40리터     : 리터당 80원\n",
    "* 40리터 이상          : 리터당 60원\n",
    "#### 예를들어, 35리터를 구입했다면, 가격은 3200원 (20\\*100+15\\*80).\n",
    "\n",
    "#### 해당 코드를 작성하고, 최종적으로는 50리터를 샀을때 가격을 계산하여 결과를 출력하시오."
   ]
  },
  {
   "cell_type": "code",
   "execution_count": null,
   "metadata": {},
   "outputs": [],
   "source": [
    "liter = 35\n",
    "\n",
    "if liter <=20:\n",
    "    price = 100*liter\n",
    "else:\n",
    "    price = 100*20 + 80 *(liter -20)\n",
    "    \n",
    "print(liter,price)\n"
   ]
  },
  {
   "cell_type": "code",
   "execution_count": null,
   "metadata": {},
   "outputs": [],
   "source": [
    "liter =int(input(\"liter 를 입력하세요:\"))\n",
    "if liter <= 20:\n",
    "    price= 100*liter \n",
    "elif 20 < liter <=30:\n",
    "    price= 100*20 + 80*(liter-20)\n",
    "elif 40 <= liter:\n",
    "    price = 100*20 +80*20 + 60*(liter-40)\n",
    "\n",
    "print (\"총 금액은 %d 원 \" %price)"
   ]
  },
  {
   "cell_type": "markdown",
   "metadata": {},
   "source": [
    "# 위의 코드를 변형하여 작성을 완료하시오."
   ]
  },
  {
   "cell_type": "code",
   "execution_count": null,
   "metadata": {},
   "outputs": [],
   "source": []
  },
  {
   "cell_type": "code",
   "execution_count": null,
   "metadata": {},
   "outputs": [],
   "source": []
  },
  {
   "cell_type": "code",
   "execution_count": null,
   "metadata": {},
   "outputs": [],
   "source": []
  },
  {
   "cell_type": "markdown",
   "metadata": {},
   "source": [
    "# 문제2: 369게임 만들기\n",
    "\n",
    "369 게임은 다음과 같습니다.\n",
    "\n",
    "1. 1부터 시작해서 숫자를 하나씩 센다.\n",
    "2. 숫자에 3이나, 6이나, 9가 있을 경우 박수(clap)를 친다. (예를 들어, 33은 박수를 두 번 쳐야한다.)\n",
    "3. 지정한 최대 숫자까지 도달하면 프로그램을 종료한다.\n",
    "\n",
    "#### 해당 코드를 작성(완성)하고, 최종적으로는 지정한 최대 숫자(ex: 100 또는 더 큰 수)까지 실행했을때의 결과를 출력하시오.\n",
    "#### Tips: 파이썬 문자열의 count 함수(메소드)를 활용"
   ]
  },
  {
   "cell_type": "code",
   "execution_count": null,
   "metadata": {},
   "outputs": [],
   "source": [
    "count = 100\n",
    "\n",
    "for n in range(count):\n",
    "    n_text = str(n)\n"
   ]
  },
  {
   "cell_type": "markdown",
   "metadata": {},
   "source": [
    "# 위의 코드를 변형하여 작성을 완료하시오."
   ]
  },
  {
   "cell_type": "code",
   "execution_count": 4,
   "metadata": {},
   "outputs": [
    {
     "output_type": "stream",
     "name": "stdout",
     "text": [
      "0\n1\n2\n3 clap!\n4\n5\n6 clap!\n7\n8\n9 clap!\n10\n11\n12\n13 clap!\n14\n15\n16 clap!\n17\n18\n19 clap!\n20\n21\n22\n23 clap!\n24\n25\n26 clap!\n27\n28\n29 clap!\n30 clap!\n31 clap!\n32 clap!\n33 clap!\n34 clap!\n35 clap!\n36 clap!\n37 clap!\n38 clap!\n39 clap!\n40\n41\n42\n43 clap!\n44\n45\n46 clap!\n47\n48\n49 clap!\n50\n51\n52\n53 clap!\n54\n55\n56 clap!\n57\n58\n59 clap!\n60 clap!\n61 clap!\n62 clap!\n63 clap!\n64 clap!\n65 clap!\n66 clap!\n67 clap!\n68 clap!\n69 clap!\n70\n71\n72\n73 clap!\n74\n75\n76 clap!\n77\n78\n79 clap!\n80\n81\n82\n83 clap!\n84\n85\n86 clap!\n87\n88\n89 clap!\n90 clap!\n91 clap!\n92 clap!\n93 clap!\n94 clap!\n95 clap!\n96 clap!\n97 clap!\n98 clap!\n99 clap!\n100\n101\n102\n103 clap!\n104\n105\n106 clap!\n107\n108\n109 clap!\n110\n111\n112\n113 clap!\n114\n115\n116 clap!\n117\n118\n119 clap!\n120\n121\n122\n123 clap!\n124\n125\n126 clap!\n127\n128\n129 clap!\n130 clap!\n131 clap!\n132 clap!\n133 clap!\n134 clap!\n135 clap!\n136 clap!\n137 clap!\n138 clap!\n139 clap!\n140\n141\n142\n143 clap!\n144\n145\n146 clap!\n147\n148\n149 clap!\n150\n151\n152\n153 clap!\n154\n155\n156 clap!\n157\n158\n159 clap!\n160 clap!\n161 clap!\n162 clap!\n163 clap!\n164 clap!\n165 clap!\n166 clap!\n167 clap!\n168 clap!\n169 clap!\n170\n171\n172\n173 clap!\n174\n175\n176 clap!\n177\n178\n179 clap!\n180\n181\n"
     ]
    }
   ],
   "source": [
    "count = int(input(\"숫자를 입력:\"))\n",
    "\n",
    "for n in range(count):\n",
    "    n_text = str(n)\n",
    "\n",
    "    if \"3\" in n_text or \"6\" in n_text or \"9\" in n_text:\n",
    "        print(n, \"clap!\")\n",
    "    "
   ]
  },
  {
   "cell_type": "code",
   "execution_count": null,
   "metadata": {},
   "outputs": [],
   "source": []
  },
  {
   "cell_type": "code",
   "execution_count": null,
   "metadata": {},
   "outputs": [],
   "source": []
  },
  {
   "cell_type": "code",
   "execution_count": null,
   "metadata": {},
   "outputs": [],
   "source": []
  }
 ],
 "metadata": {
  "kernelspec": {
   "name": "python385jvsc74a57bd077ce2973aab2b48623e88611d791d1b5e95b350fd497be4f1befd89e3cecb4c1",
   "display_name": "Python 3.8.5 64-bit ('base': conda)"
  },
  "language_info": {
   "codemirror_mode": {
    "name": "ipython",
    "version": 3
   },
   "file_extension": ".py",
   "mimetype": "text/x-python",
   "name": "python",
   "nbconvert_exporter": "python",
   "pygments_lexer": "ipython3",
   "version": "3.8.5"
  }
 },
 "nbformat": 4,
 "nbformat_minor": 2
}